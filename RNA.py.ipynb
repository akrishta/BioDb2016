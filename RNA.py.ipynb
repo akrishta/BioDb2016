{
 "cells": [
  {
   "cell_type": "code",
   "execution_count": null,
   "metadata": {
    "collapsed": true
   },
   "outputs": [],
   "source": [
    "#RNA\tTranscribing DNA into RNA\n",
    "\n",
    "\n",
    "fo2 = open('rosalind_rnaa.txt','r')\n",
    "lines2 = fo2.readlines()\n",
    "\n",
    "def getdata(foo):\n",
    "    for line in lines2:\n",
    "        return line.strip('\\n')\n",
    "    \n",
    "seq_stripped2 = getdata(fo2)    \n",
    "seq_stripped2.replace('T', 'U')\n",
    "  "
   ]
  }
 ],
 "metadata": {
  "kernelspec": {
   "display_name": "Python [Root]",
   "language": "python",
   "name": "Python [Root]"
  },
  "language_info": {
   "codemirror_mode": {
    "name": "ipython",
    "version": 3
   },
   "file_extension": ".py",
   "mimetype": "text/x-python",
   "name": "python",
   "nbconvert_exporter": "python",
   "pygments_lexer": "ipython3",
   "version": "3.5.2"
  }
 },
 "nbformat": 4,
 "nbformat_minor": 0
}
