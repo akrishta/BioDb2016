{
 "cells": [
  {
   "cell_type": "code",
   "execution_count": null,
   "metadata": {
    "collapsed": true
   },
   "outputs": [],
   "source": [
    "#DNA\tCounting DNA Nucleotides\n",
    "\n",
    "fo = open('rosalind_dna.txt','r')\n",
    "lines1 = fo.readlines()\n",
    "\n",
    "def getdata(foo):\n",
    "    for line in lines1:\n",
    "        return line.strip('\\n')\n",
    "    \n",
    "seq = getdata(fo)\n",
    "a = seq.count('A')\n",
    "t = seq.count('T')\n",
    "g = seq.count('G')\n",
    "c = seq.count('C')\n",
    "print('{} {} {} {}'.format(a,c,g,t))"
   ]
  }
 ],
 "metadata": {
  "kernelspec": {
   "display_name": "Python [Root]",
   "language": "python",
   "name": "Python [Root]"
  },
  "language_info": {
   "codemirror_mode": {
    "name": "ipython",
    "version": 3
   },
   "file_extension": ".py",
   "mimetype": "text/x-python",
   "name": "python",
   "nbconvert_exporter": "python",
   "pygments_lexer": "ipython3",
   "version": "3.5.2"
  }
 },
 "nbformat": 4,
 "nbformat_minor": 0
}
