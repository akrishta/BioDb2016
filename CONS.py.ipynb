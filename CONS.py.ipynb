{
 "cells": [
  {
   "cell_type": "code",
   "execution_count": 57,
   "metadata": {
    "collapsed": true
   },
   "outputs": [],
   "source": [
    "from numpy import matrix\n",
    "from numpy import linalg\n",
    "import numpy"
   ]
  },
  {
   "cell_type": "code",
   "execution_count": 89,
   "metadata": {
    "collapsed": false,
    "scrolled": true
   },
   "outputs": [
    {
     "name": "stdout",
     "output_type": "stream",
     "text": [
      "A:[5, 1, 0, 0, 5, 5, 0, 0]\n",
      "C:[0, 0, 1, 4, 2, 0, 6, 1]\n",
      "G:[1, 1, 6, 3, 0, 1, 0, 0]\n",
      "T:[1, 5, 0, 0, 0, 1, 1, 6]\n"
     ]
    },
    {
     "ename": "NameError",
     "evalue": "name 'counters' is not defined",
     "output_type": "error",
     "traceback": [
      "\u001b[1;31m---------------------------------------------------------------------------\u001b[0m",
      "\u001b[1;31mNameError\u001b[0m                                 Traceback (most recent call last)",
      "\u001b[1;32m<ipython-input-89-76324d7c1355>\u001b[0m in \u001b[0;36m<module>\u001b[1;34m()\u001b[0m\n\u001b[0;32m     26\u001b[0m \u001b[0mmydict\u001b[0m \u001b[1;33m=\u001b[0m \u001b[1;33m{\u001b[0m\u001b[1;34m\"A\"\u001b[0m\u001b[1;33m:\u001b[0m\u001b[0maa\u001b[0m\u001b[1;33m,\u001b[0m\u001b[1;34m\"C\"\u001b[0m\u001b[1;33m:\u001b[0m\u001b[0mcc\u001b[0m\u001b[1;33m,\u001b[0m\u001b[1;34m\"G\"\u001b[0m\u001b[1;33m:\u001b[0m\u001b[0mgg\u001b[0m\u001b[1;33m,\u001b[0m\u001b[1;34m\"T\"\u001b[0m\u001b[1;33m:\u001b[0m\u001b[0mtt\u001b[0m\u001b[1;33m}\u001b[0m\u001b[1;33m\u001b[0m\u001b[0m\n\u001b[0;32m     27\u001b[0m \u001b[1;33m\u001b[0m\u001b[0m\n\u001b[1;32m---> 28\u001b[1;33m \u001b[0mconsensus\u001b[0m \u001b[1;33m=\u001b[0m \u001b[1;34m''\u001b[0m\u001b[1;33m.\u001b[0m\u001b[0mjoin\u001b[0m\u001b[1;33m(\u001b[0m\u001b[1;33m[\u001b[0m\u001b[0mcounter\u001b[0m\u001b[1;33m.\u001b[0m\u001b[0mmost_common\u001b[0m\u001b[1;33m(\u001b[0m\u001b[1;36m1\u001b[0m\u001b[1;33m)\u001b[0m\u001b[1;33m[\u001b[0m\u001b[1;36m0\u001b[0m\u001b[1;33m]\u001b[0m\u001b[1;33m[\u001b[0m\u001b[1;36m0\u001b[0m\u001b[1;33m]\u001b[0m \u001b[1;32mfor\u001b[0m \u001b[0mcounter\u001b[0m \u001b[1;32min\u001b[0m \u001b[0mcounters\u001b[0m\u001b[1;33m]\u001b[0m\u001b[1;33m)\u001b[0m\u001b[1;33m\u001b[0m\u001b[0m\n\u001b[0m\u001b[0;32m     29\u001b[0m \u001b[1;31m#for base in mydict:\u001b[0m\u001b[1;33m\u001b[0m\u001b[1;33m\u001b[0m\u001b[0m\n\u001b[0;32m     30\u001b[0m \u001b[1;31m#    for i in range((len(mydict[\"A\"]))):\u001b[0m\u001b[1;33m\u001b[0m\u001b[1;33m\u001b[0m\u001b[0m\n",
      "\u001b[1;31mNameError\u001b[0m: name 'counters' is not defined"
     ]
    }
   ],
   "source": [
    "fo = open(\"sample.txt\")\n",
    "segments = {} #segments : our dict with fasta code as key and seq as it's value\n",
    "#read from file so that if line begins with >, store as key and all following as value for that key\n",
    "for line in fo:\n",
    "    line = line.rstrip()\n",
    "    if line[0] == '>':\n",
    "        segments[line.strip('>')] = \"\"\n",
    "        temp = line.strip('>')\n",
    "    else:\n",
    "        segments[temp] += line\n",
    "\n",
    "v = list(segments.values())# type(segments.values()) : dict values\n",
    "v1 = list(zip(*v))# v1 has all 1st position element in one tuple. 2nd position element in 2nd tupple and so on . \n",
    "aa = []\n",
    "cc = []\n",
    "gg = []\n",
    "tt = []\n",
    "\n",
    "for i in range(len(v1)): # calculate frequency of each base in each element of list v1\n",
    "    aa.append(v1[i].count('A'))\n",
    "    cc.append(v1[i].count('C'))\n",
    "    gg.append(v1[i].count('G'))\n",
    "    tt.append(v1[i].count('T'))\n",
    "\n",
    "print('A:{}\\nC:{}\\nG:{}\\nT:{}'.format(aa,cc,gg,tt))   \n",
    "mydict = {\"A\":aa,\"C\":cc,\"G\":gg,\"T\":tt}\n",
    "\n",
    "consensus = ''.join([counter.most_common(1)[0][0] for counter in counters])\n",
    "#for base in mydict:\n",
    "#    for i in range((len(mydict[\"A\"]))):\n",
    "#        if mydict[base][i] > \n",
    "    \n",
    "   \n",
    "    \n",
    "       \n",
    "    \n",
    "# c = c = max(mydict[\"A\"][i],mydict[\"C\"][i])\n",
    "#for i in range((len(mydict[base]))):    "
   ]
  },
  {
   "cell_type": "code",
   "execution_count": 100,
   "metadata": {
    "collapsed": false
   },
   "outputs": [
    {
     "name": "stdout",
     "output_type": "stream",
     "text": [
      "G: 2 3 2 3 4 1 3 4 2 1 3 0 1 2 3 3 3 1 3 1 3 1 3 4 3 1 4 3 4 3 1 0 0 1 2 2 2 5 3 3 4 2 3 3 2 2 3 4 5 1 0 2 2 2 3 1 2 4 3 4 5 2 3 2 0 5 2 3 3 2 3 3 0 2 2 4 1 2 2 2 4 6 2 1 3 2 4 3 4 4 1 2 3 0 3 1 1 2 3 2 0 4 3 2 0 2 1 5 2 1 3 4 2 3 3 2 0 1 3 2 1 5 4 3 2 6 3 0 0 4 4 2 2 2 4 1 3 0 2 1 3 3 4 4 4 2 3 1 2 3 6 3 4 1 2 1 3 4 2 1 3 2 3 3 2 2 1 0 2 2 3 3 2 2 1 4 1 3 3 4 2 1 2 2 6 2 3 5 1 4 2 1 5 3 4 0 1 4 5 1 2 3 3 1 4 2 2 2 4 2 2 6 5 3 1 2 1 2 3 4 3 4 1 2 3 2 1 2 1 2 4 6 4 1 3 3 2 2 2 4 0 1 4 1 2 3 3 3 1 4 1 4 4 1 1 3 1 1 2 3 2 3 3 4 5 3 2 1 2 0 1 1 4 3 2 1 6 2 0 7 4 2 1 4 3 2 4 4 3 3 3 4 4 2 1 2 3 2 3 4 2 2 0 4 1 4 5 2 3 1 1 2 1 3 3 5 4 3 3 3 1 3 1 1 1 5 1 4 3 2 2 1 2 3 2 3 3 2 1 2 4 1 4 3 5 0 1 1 4 2 1 3 3 2 4 6 3 2 1 3 3 1 0 1 0 2 2 3 6 4 3 1 3 1 2 2 3 2 2 3 2 3 1 3 1 3 2 0 0 4 3 1 5 2 3 3 4 2 2 2 3 3 1 4 4 3 1 4 2 3 3 1 4 3 6 2 5 1 6 5 0 3 2 2 2 3 4 2 2 3 1 0 3 3 3 1 5 4 3 1 1 1 3 1 3 5 4 3 2 0 2 1 3 3 1 0 1 1 3 0 0 6 3 1 3 2 5 4 3 3 0 2 3 4 2 3 1 1 4 4 2 3 4 0 2 1 0 1 2 2 3 2 0 2 1 3 5 1 3 2 1 3 1 0 5 3 3 4 3 3 3 1 3 5 4 0 4 1 4 6 2 2 3 4 4 2 2 3 2 1 6 2 0 2 4 4 2 1 5 3 3 3 0 2 2 3 3 2 2 6 4 3 4 6 2 0 2 3 3 1 5 3 4 3 0 2 3 3 1 3 3 3 1 1 4 2 6 1 3 2 2 1 1 1 1 4 2 5 2 4 4 3 1 4 3 2 1 3 5 3 1 3 3 1 2 2 2 4 0 1 3 3 3 5 2 2 4 1 2 3 1 2 4 4 2 0 1 3 1 2 1 1 3 1 2 1 4 4 1 3 3 4 4 4 3 2 3 0 3 3 1 2 5 4 2 5 4 5 1 1 3 2 3 3 2 2 4 4 2 3 4 2 4 2 3 3 3 1 1 5 3 3 3 2 3 2 1 3 0 3 4 1 2 1 1 4 2 5 4 6 2 4 2 2 5 2 4 3 1 4 2 1 2 1 2 1 0 7 5 2 2 3 3 2 4 2 3 5 2 3 3 2 5 5 0 3 2 1 1 2 2 1 5 3 3 3 3 1 1 2 2 2 3 2 1 4 4 5 2 1 2 3 5 0 3 1 4 4 4 5 1 5 2 2 4 5 5 1 1 1 2 3 0 3 2 2 4 2 3 4 3 0 2 4 4 1 1 3 5 1 5 3 3 1 2 3 2 2 1 2 2 1 6 3 2 4 2 2 1 3 2 1 3 2 3 2 2 2 3 0 3 3 4 2 2 3 1 4 2 5 3 2 2 0 3 0 1 2 2 3 2 4 0 2 4 3 3 3 3 2 2 1 0 2 3 3 2 4 4 0 5 3 0 3 4 4 2 2 3 2 3 6 3 4 2 3 2 2 2 2 2 1 1 1 1 3 2 0 3 3 1 0 2 5 2 3 1 3 1 3 2 1 3 3 4 4 3 0 4 2 1 1 0 4 1 3 2 3 3 0\n",
      "C: 5 0 3 4 2 2 2 3 2 4 2 3 2 2 2 3 2 3 2 4 3 3 2 5 3 2 1 2 1 1 3 8 6 5 3 4 1 0 5 1 1 3 1 5 1 3 1 0 2 3 3 2 2 2 1 4 2 3 0 1 2 1 4 1 3 1 1 3 0 5 3 2 3 4 2 4 1 2 3 3 2 2 4 2 4 4 1 2 3 1 5 2 5 1 2 2 3 1 3 2 3 1 3 3 3 5 4 2 3 3 4 3 0 1 1 7 3 5 0 2 5 2 2 5 0 1 2 3 2 1 1 2 3 3 2 4 3 3 1 2 1 1 1 3 1 3 2 6 3 2 2 1 1 1 4 1 2 2 5 2 2 2 1 2 4 0 2 4 6 2 2 4 5 2 1 1 2 1 4 2 2 2 2 4 1 4 1 1 1 2 1 3 0 0 2 2 4 0 0 4 4 2 2 0 2 2 1 3 1 3 3 2 0 2 3 1 1 5 3 3 5 4 7 3 1 1 5 4 2 2 1 0 3 2 1 4 2 1 4 3 3 3 3 4 1 2 1 3 1 3 5 0 1 4 5 4 2 4 4 2 1 1 4 2 2 6 3 3 3 4 3 4 2 4 3 3 1 3 3 1 3 3 6 1 3 4 0 2 3 3 2 4 3 5 2 2 3 2 3 0 3 2 4 4 3 2 4 3 1 6 2 3 1 4 2 2 1 1 2 1 2 2 4 4 4 1 5 1 4 2 4 2 2 0 4 2 3 4 4 3 1 2 2 3 2 3 4 3 1 3 2 1 3 0 0 2 3 2 2 3 1 5 4 4 2 2 4 0 2 1 2 2 0 3 1 3 2 3 4 3 1 1 1 1 3 0 4 1 2 1 3 2 2 2 1 3 4 3 2 1 4 4 4 3 3 2 3 3 2 2 2 3 3 3 0 2 1 2 0 2 4 3 1 2 2 1 2 4 5 5 4 2 1 1 2 5 1 1 2 5 2 2 1 2 1 3 2 1 4 6 4 4 3 3 2 3 4 2 1 3 3 1 1 3 1 1 2 3 1 3 3 2 2 1 2 2 3 3 1 2 3 3 2 6 3 2 3 1 1 0 2 2 3 0 2 3 1 2 4 3 4 3 2 6 1 4 3 0 3 2 3 2 2 3 2 4 3 4 1 0 4 0 1 1 1 2 4 2 1 6 1 2 2 3 2 2 3 2 4 2 2 3 5 4 3 5 4 5 4 1 2 3 5 0 2 3 4 1 3 4 0 2 0 2 4 4 3 4 4 1 1 4 4 4 1 4 0 4 2 1 1 3 2 4 4 2 3 1 2 0 2 1 3 3 1 2 2 2 1 1 1 2 1 2 2 4 2 1 5 2 2 5 4 3 3 2 2 3 1 3 6 3 0 2 0 3 2 4 3 0 6 3 0 5 4 5 2 2 5 4 1 1 3 2 5 2 1 3 2 0 4 3 1 1 2 2 2 0 2 6 1 2 2 2 2 4 3 1 2 1 3 3 4 2 1 2 4 4 2 2 3 2 2 3 6 5 2 3 4 2 2 4 3 3 2 2 0 2 0 1 4 2 3 3 2 2 2 3 3 4 2 3 3 4 1 7 6 2 2 3 1 2 2 3 3 4 2 2 2 3 2 3 1 1 3 5 1 3 3 2 3 3 0 3 3 0 3 2 1 1 2 2 5 4 3 4 2 1 3 1 3 3 3 3 1 1 3 1 1 3 3 1 3 4 3 2 0 4 3 6 1 1 3 3 3 2 2 3 4 1 2 3 3 1 1 2 2 5 2 4 1 4 2 4 1 2 2 4 1 2 2 4 1 2 1 2 1 2 3 2 5 4 2 3 5 2 1 5 4 4 3 2 2 3 3 2 5 2 0 2 2 4 3 5 1 4 3 4 3 1 2 2 4 4 1 3 4 2 2 2 2 2 4 3 1 1 3 1 3 2 0 3 1 2 3 3 2 2 2 4 1 0 0 1 2 1 2 3 3 1 0 2 3 3 3 1 2 3 4 0 3 2 0 2 4 3 4 2 3 3 1 5 3 1 1 1 2 4 2 2 4 3 4 2 2 1 1 4 2 2\n",
      "A: 1 3 1 1 4 2 5 0 5 2 5 3 1 1 1 2 2 3 1 5 2 2 3 1 3 4 3 4 5 4 1 1 1 1 3 4 5 2 1 2 1 1 1 0 5 2 4 2 2 4 4 3 4 2 1 4 4 1 1 3 1 5 1 5 3 1 3 3 5 2 2 1 3 3 3 0 5 4 4 1 2 2 1 3 1 1 2 1 2 4 1 1 2 4 3 3 4 5 2 3 1 3 1 5 3 0 1 2 3 5 0 2 3 4 4 1 1 2 4 4 2 2 1 2 1 2 3 3 4 2 1 3 0 2 2 2 2 2 4 3 4 3 4 1 0 4 5 2 2 3 2 3 4 3 2 2 2 3 1 2 3 3 1 2 4 5 5 2 2 2 3 1 1 3 4 1 4 1 1 2 4 3 5 3 2 1 2 3 2 1 5 3 3 2 2 4 1 4 3 3 2 4 1 5 4 2 3 1 4 4 1 2 1 2 5 5 3 2 2 3 1 0 1 4 4 3 1 0 3 2 2 1 1 2 2 3 1 5 3 1 4 3 1 2 3 1 2 3 4 3 3 3 1 1 1 2 5 5 1 2 1 3 2 2 1 1 4 2 1 3 1 1 1 2 1 2 1 1 2 0 2 2 1 1 3 2 3 3 2 3 3 2 2 2 4 2 2 3 1 6 2 4 1 0 4 3 1 4 4 0 4 3 4 2 2 1 3 4 0 3 3 3 4 1 3 2 3 2 2 5 2 3 3 3 3 2 2 3 3 3 1 4 3 2 2 2 3 5 3 2 4 2 3 4 2 1 1 4 4 0 5 3 6 3 4 3 1 3 1 2 4 2 3 3 6 2 1 3 1 2 3 1 2 2 2 2 1 5 2 2 2 2 1 2 4 2 1 3 1 4 1 1 4 1 3 1 1 1 1 2 2 4 2 2 1 2 2 4 2 3 3 2 5 2 6 2 3 2 2 1 1 4 3 3 3 4 1 3 3 3 4 2 1 3 1 1 1 3 2 3 3 0 2 3 3 5 2 4 2 2 4 2 4 2 4 4 0 0 1 0 3 6 3 2 1 2 4 2 2 2 1 1 3 4 4 3 4 3 7 4 2 5 3 1 3 2 1 2 0 3 1 1 2 4 2 2 3 2 3 4 2 2 3 1 4 3 2 1 3 3 3 5 3 4 3 1 1 3 2 2 0 2 4 2 4 1 1 4 1 3 3 1 5 2 2 2 0 1 2 0 2 3 1 2 4 3 3 2 3 3 3 1 2 2 4 3 3 2 1 0 1 1 2 3 3 2 2 2 5 3 3 1 2 4 2 2 1 3 1 4 4 4 2 1 5 2 4 5 2 2 7 4 5 2 5 2 3 4 1 3 1 0 1 1 2 4 1 3 4 1 1 2 5 2 5 4 4 2 3 4 0 4 5 2 1 3 3 2 4 2 2 4 1 1 2 3 5 3 2 5 3 4 2 1 2 1 1 4 2 3 5 5 3 4 2 2 2 2 5 1 1 2 0 3 4 3 1 0 2 1 0 2 2 3 1 2 2 2 4 1 1 4 2 4 4 1 6 1 4 3 3 2 2 1 2 2 1 1 3 1 1 3 1 2 3 1 3 1 3 4 2 1 2 4 2 3 3 0 4 2 2 3 3 3 4 0 4 4 2 3 2 0 1 1 3 4 3 3 3 6 3 3 1 2 3 1 2 1 3 2 2 3 2 4 2 3 3 2 4 2 1 1 4 3 0 2 3 2 3 3 4 4 2 4 2 5 4 2 2 2 2 3 3 3 3 4 4 1 2 3 2 1 2 4 3 2 1 0 6 1 2 3 1 2 2 1 3 4 4 3 1 3 1 2 2 3 4 1 2 1 1 2 2 2 3 2 2 1 4 1 2 3 3 4 1 2 1 2 4 4 4 1 1 3 3 2 1 4 1 2 2 5 3 3 2 3 4 4 1 4 3 3 6 2 1 3 2 3 2 1 5 3 4 3 5 3 4 1 4 4 3 2 3 3 4 3 1 4 0 4 1 4 3 3 2 2 3 1 1 2 5 0 3 3 1 4 1 2 1 5 1 2 3 4 6 3 2 2 4 3\n",
      "T: 2 4 4 2 0 5 0 3 1 3 0 4 6 5 4 2 3 3 4 0 2 4 2 0 1 3 2 1 0 2 5 1 3 3 2 0 2 3 1 4 4 4 5 2 2 3 2 4 1 2 3 3 2 4 5 1 2 2 6 2 2 2 2 2 4 3 4 1 2 1 2 4 4 1 3 2 3 2 1 4 2 0 3 4 2 3 3 4 1 1 3 5 0 5 2 4 2 2 2 3 6 2 3 0 4 3 4 1 2 1 3 1 5 2 2 0 6 2 3 2 2 1 3 0 7 1 2 4 4 3 4 3 5 3 2 3 2 5 3 4 2 3 1 2 5 1 0 1 3 2 0 3 1 5 2 6 3 1 2 5 2 3 5 3 0 3 2 4 0 4 2 2 2 3 4 4 3 5 2 2 2 4 1 1 1 3 4 1 6 3 2 3 2 5 2 4 4 2 2 2 2 1 4 4 0 4 4 4 1 1 4 0 4 3 1 2 5 1 2 0 1 2 1 1 2 4 3 4 4 4 3 3 2 5 4 0 5 2 1 2 3 3 2 3 4 4 4 1 4 0 1 3 4 4 3 1 2 0 3 3 6 3 1 2 2 0 1 4 4 3 5 4 3 1 4 4 2 4 5 2 1 3 2 4 1 2 3 1 2 1 2 0 1 1 3 4 2 3 3 0 3 2 5 2 2 1 0 1 2 3 3 2 4 1 3 2 2 2 5 3 4 2 1 4 2 2 1 3 1 1 2 4 3 4 1 3 2 1 2 2 4 3 1 2 1 5 2 1 2 3 3 4 1 4 4 1 3 2 3 4 1 1 0 2 4 3 3 4 1 3 1 5 4 3 1 3 4 2 3 2 4 5 6 4 4 5 3 4 6 3 2 5 2 4 2 2 1 2 5 3 2 2 1 2 0 4 5 2 5 3 3 2 1 2 3 4 2 3 2 0 3 2 2 4 0 4 1 2 1 1 4 4 3 3 2 0 3 2 2 1 3 5 5 4 5 1 3 3 2 1 1 5 2 1 4 2 3 3 4 5 3 1 2 4 2 3 3 3 5 4 4 0 2 3 5 3 2 4 3 2 4 3 1 0 1 4 3 5 0 4 3 1 4 7 4 2 3 5 3 2 4 3 5 0 2 1 1 4 1 1 2 5 2 1 0 3 1 4 2 1 1 3 3 1 2 5 3 2 5 1 3 4 4 3 0 3 4 3 0 2 2 3 0 2 3 0 3 2 2 3 2 1 0 2 2 4 1 4 1 2 2 4 4 3 2 1 1 1 4 6 5 2 3 2 2 2 2 3 0 4 4 5 5 1 3 2 4 1 5 2 0 2 4 2 1 4 3 0 2 4 1 1 1 5 1 2 3 1 4 4 4 2 2 1 3 2 3 3 3 3 2 3 1 2 3 3 3 1 3 4 3 2 2 2 3 1 1 2 0 1 4 1 2 3 0 3 1 4 3 2 2 1 2 4 4 2 3 1 5 0 1 1 2 1 4 2 1 3 1 5 2 3 2 3 2 2 2 5 5 2 4 3 3 2 0 1 5 2 2 4 3 1 3 2 3 3 2 2 2 0 1 2 3 4 1 4 3 3 3 1 5 3 4 3 4 1 1 0 0 1 5 4 3 1 1 1 2 3 2 2 3 2 1 1 3 2 3 2 4 3 3 6 4 3 1 3 1 4 5 1 3 3 1 2 3 1 2 3 2 6 3 1 0 3 4 5 0 3 1 0 5 3 1 1 3 1 2 3 3 0 3 2 5 0 3 1 0 3 1 3 3 4 2 2 2 3 3 1 1 2 2 2 3 1 4 3 5 4 2 5 4 2 2 3 5 3 4 2 2 2 2 2 4 3 0 3 3 2 1 5 3 3 2 3 2 3 2 3 4 2 3 1 2 1 5 4 5 2 1 2 2 3 5 1 2 2 2 1 4 4 4 2 3 2 4 3 1 1 2 4 2 1 3 3 2 0 4 3 3 3 1 1 3 2 1 3 2 4 1 3 5 5 3 3 2 3 5 3 3 3 5 4 5 0 2 2 2 4 5 2 2 4 1 3 4 1 4 4 3 1 4 4 3 0 1 3 5 1 1 5\n",
      "CTTCATAGACATTTTCGATACTACAAGAAATCCCAAAGCTGTTCACAGGAAAATTAAGTGGACATGTAACCTTCACAAATGGCTCCGTGACTCTATAACATGCATCCGAACGTAACTCAACGGCTGATAGGATCGCCTATAAAGTAACCAGAATCTGGCTAATGAAACCTACCAAGATCGATACGCTGTGAAGTGACAGCCATAATTTAATGGGAATCCGCCCAATCCTTGGGTTCTACGAAGCTTTAAGCGGCCCAACGTACGGCATTCTCGCTTGTTGGCCGACGGCAACGCATCACACATCAGGAACAAACGGGATATAACCGCGCACTATCGCCCAGAGCGTCAGCATAAGGCAATACACAACTGGATTAACTACCTTTTTTCATGCTGTACCATACCAGGTTGTGGAGCGTGAGGCCATATGCCCCAAAACGGACATTTTGGACCCTCATACATTAGATAAGGTTTAAGTGATGGTCGCATATAAGATTTCGTCACCTCGCAGAACTAGACGCGGCAAAGTCATCGTACAGTAGAACACCCCCCGGACGATCTACGTGGACACCTTCCCGCGCATTTTACGTGTAAATGATAAGTAAATACAACTTCCGCAGAACCCAGAAACAACAACCCGGCCTAGGCAATGACAGGTGGGTCAAAATCGGATGCCAAACTTGTGGACCTCATGACAAGAGAGCGCTGTGCACTATCTCCGGATTGAGCAGACGAGGACAATACTGCAAATTAAACCACGGATCAGATTGGAGTGACGGGCACAATACAACCGGTAGGAACGCGCGATGTCATTCGGTGTAAACCTCCAACCTCGGCAGCGAGGCACTCTCAAAGTCGCCATTTACATAAAGAGAAGGGTAGCAGAGAAATAATTAAAATACATATGCCCTTCACAAGATCGACTCAAATCAT\n"
     ]
    }
   ],
   "source": [
    "import numpy as np\n",
    "fo = open(\"rosalind_cons.txt\")\n",
    "segments = {} #segments : our dict with fasta code as key and seq as it's value\n",
    "#read from file so that if line begins with >, store as key and all following as value for that key\n",
    "for line in fo:\n",
    "    line = line.rstrip()\n",
    "    if line[0] == '>':\n",
    "        segments[line.strip('>')] = \"\"\n",
    "        temp = line.strip('>')\n",
    "    else:\n",
    "        segments[temp] += line\n",
    "\n",
    "strings = []        \n",
    "for e in segments:\n",
    "    strings.append(segments[e])\n",
    "    \n",
    "\n",
    "#convert strings into matrix\n",
    "matrix = []\n",
    "for i in strings:\n",
    "    matrix.append([j for j in i])\n",
    "M = np.array(matrix).reshape(len(matrix),len(matrix[0]))\n",
    "A = []\n",
    "C = []\n",
    "G = []\n",
    "T = []\n",
    "for i in range(len(matrix[0])):\n",
    "    A_count = 0\n",
    "    C_count = 0\n",
    "    G_count = 0\n",
    "    T_count = 0\n",
    "    for j in M[:,i]:\n",
    "        if j == \"A\":\n",
    "            A_count += 1\n",
    "        elif j == \"C\":\n",
    "            C_count += 1\n",
    "        elif j == \"G\":\n",
    "            G_count += 1\n",
    "        elif j == \"T\":\n",
    "            T_count += 1\n",
    "    A.append(A_count)\n",
    "    C.append(C_count)\n",
    "    G.append(G_count)\n",
    "    T.append(T_count)\n",
    "\n",
    "profile_matrix = {\"A\": A, \"C\": C, \"G\": G, \"T\": T}\n",
    "for k, v in profile_matrix.items():\n",
    "    print(k + \": \" + \" \".join(str(x) for x in v))\n",
    "\n",
    "#get consensus string\n",
    "P = []\n",
    "P.append(A)\n",
    "P.append(C)\n",
    "P.append(G)\n",
    "P.append(T)\n",
    "profile = np.array(P).reshape(4, len(A))\n",
    "consensus = []\n",
    "for i in range(len(A)):\n",
    "    if max(profile[:,i]) == profile[0,i]:\n",
    "        consensus.append(\"A\")\n",
    "    elif max(profile[:,i]) == profile[1,i]:\n",
    "        consensus.append(\"C\")\n",
    "    elif max(profile[:,i]) == profile[2,i]:\n",
    "        consensus.append(\"G\")\n",
    "    elif max(profile[:,i]) == profile[3,i]:\n",
    "        consensus.append(\"T\")\n",
    "print(\"\".join(consensus))\n",
    "\n",
    "fo.close()"
   ]
  }
 ],
 "metadata": {
  "anaconda-cloud": {},
  "kernelspec": {
   "display_name": "Python [Root]",
   "language": "python",
   "name": "Python [Root]"
  },
  "language_info": {
   "codemirror_mode": {
    "name": "ipython",
    "version": 3
   },
   "file_extension": ".py",
   "mimetype": "text/x-python",
   "name": "python",
   "nbconvert_exporter": "python",
   "pygments_lexer": "ipython3",
   "version": "3.5.2"
  }
 },
 "nbformat": 4,
 "nbformat_minor": 0
}
