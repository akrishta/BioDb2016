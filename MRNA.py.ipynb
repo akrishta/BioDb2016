{
 "cells": [
  {
   "cell_type": "code",
   "execution_count": 50,
   "metadata": {
    "collapsed": false
   },
   "outputs": [
    {
     "name": "stdout",
     "output_type": "stream",
     "text": [
      "260096\n"
     ]
    }
   ],
   "source": [
    "fo = open('rosalind_mrnaa.txt')\n",
    "seq = fo.readline().strip()\n",
    "\n",
    "code_freq = {'A':4,'R':6,'N':2,'D':2,'C':2,'Q':2,'E':2,'G':4,'H':2,'I':3,'L':6,'K':2,'M':1,'F':2,'P':4,'S':6,'T':4,'W':1,'Y':2,'V':4,'*':3}\n",
    "#  Alanine is produced by 4 codon \n",
    "\n",
    "prod = 1\n",
    "for x in range(len(seq)):\n",
    "    prod = prod*code_freq[seq[x]]\n",
    "    if prod>1000000:\n",
    "        prod = prod % 1000000\n",
    "    \n",
    "prod = prod*3 # since But wait there, in addition to amino acids, there is a codon that says to stop the process, which is UAA, UGA, UAG.\n",
    "prod = prod % 1000000\n",
    "print (prod)\n",
    "fo.close()"
   ]
  }
 ],
 "metadata": {
  "anaconda-cloud": {},
  "kernelspec": {
   "display_name": "Python [Root]",
   "language": "python",
   "name": "Python [Root]"
  },
  "language_info": {
   "codemirror_mode": {
    "name": "ipython",
    "version": 3
   },
   "file_extension": ".py",
   "mimetype": "text/x-python",
   "name": "python",
   "nbconvert_exporter": "python",
   "pygments_lexer": "ipython3",
   "version": "3.5.2"
  }
 },
 "nbformat": 4,
 "nbformat_minor": 0
}
