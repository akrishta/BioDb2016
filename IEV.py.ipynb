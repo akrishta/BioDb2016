{
 "cells": [
  {
   "cell_type": "code",
   "execution_count": 5,
   "metadata": {
    "collapsed": false
   },
   "outputs": [
    {
     "name": "stdout",
     "output_type": "stream",
     "text": [
      "147363.5\n"
     ]
    }
   ],
   "source": [
    "#IEV\tCalculating Expected Offspring\thttp://rosalind.info/problems/iev/\n",
    "\n",
    "sample = [16886,17423 ,16680 ,17201 ,19584 ,18072]\n",
    "p =[1.0, 1.0, 1.0, 0.75, 0.5, 0.0]\n",
    "answer=0\n",
    "for i in range(6):\n",
    "    answer+=sample[i]*p[i]*2\n",
    "    \n",
    "print(answer)\n",
    " \n"
   ]
  }
 ],
 "metadata": {
  "kernelspec": {
   "display_name": "Python [Root]",
   "language": "python",
   "name": "Python [Root]"
  },
  "language_info": {
   "codemirror_mode": {
    "name": "ipython",
    "version": 3
   },
   "file_extension": ".py",
   "mimetype": "text/x-python",
   "name": "python",
   "nbconvert_exporter": "python",
   "pygments_lexer": "ipython3",
   "version": "3.5.2"
  }
 },
 "nbformat": 4,
 "nbformat_minor": 0
}
