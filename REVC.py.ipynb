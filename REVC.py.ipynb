{
 "cells": [
  {
   "cell_type": "code",
   "execution_count": null,
   "metadata": {
    "collapsed": true
   },
   "outputs": [],
   "source": [
    "# REVC\tComplementing a Strand of DNA\n",
    "\n",
    "#seq3 = 'AAAACCCGGT'\n",
    "fo3 = open('rosalind_revc.txt','r')\n",
    "lines3 = fo3.readlines()\n",
    "\n",
    "def getdata(foo):\n",
    "    for line in lines3:\n",
    "        return line.strip('\\n')\n",
    "    \n",
    "seq_stripped3 = getdata(lines3)\n",
    "seq_stripped3\n",
    "\n",
    "def opp(my_dna):\n",
    "    ans =[]\n",
    "    my_list = list(my_dna)\n",
    "    my_list.reverse()\n",
    "    return my_list\n",
    "\n",
    "def comple(rev):\n",
    "    com =[]\n",
    "    for i in rev:\n",
    "        if i == 'T':\n",
    "            i = 'A'\n",
    "            com.append(i)\n",
    "        elif i == 'C':\n",
    "            i = 'G'\n",
    "            com.append(i)\n",
    "        elif i == 'G':\n",
    "            i = 'C'\n",
    "            com.append(i)\n",
    "        else:\n",
    "            i = 'T'\n",
    "            com.append(i)\n",
    "       \n",
    "    return com\n",
    " \n",
    "x =getdata(lines3)    \n",
    "y =opp(x)\n",
    "z = comple(y)\n",
    "z1 = ''.join(z)\n",
    "print(z1)"
   ]
  }
 ],
 "metadata": {
  "anaconda-cloud": {},
  "kernelspec": {
   "display_name": "Python [Root]",
   "language": "python",
   "name": "Python [Root]"
  },
  "language_info": {
   "codemirror_mode": {
    "name": "ipython",
    "version": 3
   },
   "file_extension": ".py",
   "mimetype": "text/x-python",
   "name": "python",
   "nbconvert_exporter": "python",
   "pygments_lexer": "ipython3",
   "version": "3.5.2"
  }
 },
 "nbformat": 4,
 "nbformat_minor": 0
}
