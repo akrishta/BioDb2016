{
 "cells": [
  {
   "cell_type": "code",
   "execution_count": 22,
   "metadata": {
    "collapsed": false
   },
   "outputs": [
    {
     "data": {
      "text/plain": [
       "0.7833333333333333"
      ]
     },
     "execution_count": 22,
     "metadata": {},
     "output_type": "execute_result"
    }
   ],
   "source": [
    "#IPRB\tMendel's First Law\n",
    "\n",
    "def  mendel(k,m,n):\n",
    "    p = 0 \n",
    "    t = k+m+n\n",
    "    t1 = t-1\n",
    "    prob_n =  0.5*(n/t)*(m/(t1)) + 1*((n-1)/t1)*(n/t)  # nn = all rece, nm : 50% chance\n",
    "    prob_m =  0.25* m/t*(m-1)/t1+ (n/t1*m/t)*0.5  ## mn gives 50% aa and mm gives 0.25 aa\n",
    "    p = 1-(prob_n+prob_m)\n",
    "    return p \n",
    "\n",
    "mendel(2,2,2)\n"
   ]
  }
 ],
 "metadata": {
  "anaconda-cloud": {},
  "kernelspec": {
   "display_name": "Python [Root]",
   "language": "python",
   "name": "Python [Root]"
  },
  "language_info": {
   "codemirror_mode": {
    "name": "ipython",
    "version": 3
   },
   "file_extension": ".py",
   "mimetype": "text/x-python",
   "name": "python",
   "nbconvert_exporter": "python",
   "pygments_lexer": "ipython3",
   "version": "3.5.2"
  }
 },
 "nbformat": 4,
 "nbformat_minor": 0
}
