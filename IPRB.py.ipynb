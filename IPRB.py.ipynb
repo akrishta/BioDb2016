{
 "cells": [
  {
   "cell_type": "code",
   "execution_count": 10,
   "metadata": {
    "collapsed": false
   },
   "outputs": [
    {
     "data": {
      "text/plain": [
       "0.6474978050921861"
      ]
     },
     "execution_count": 10,
     "metadata": {},
     "output_type": "execute_result"
    }
   ],
   "source": [
    "#IPRB\tMendel's First Law\n",
    "\n",
    "def  mendel(k,m,n):\n",
    "    p = 0 \n",
    "    t = k+m+n\n",
    "    t1 = t-1\n",
    "    #p = ((k/t)*(k-1/t1)) + ((k/t)*(m/t1))*0.5 + ((k/t)*(n/t1))+ ((n/t)*(n-1/t1))*0 + ((n/t)*(k/t1)) + ((n/t)*(m/t1))*0.5+((m/t)*(m-1/t1))*0.75 + ((m/t)*(k/t1))*0.5 + ((m/t)*(n/t1))*0.5\n",
    "    p = k/t + m/t * ( (k/t1) + (0.75*((m-1)/t1)) + (0.5*(n/t1)) ) + n/t * ( (k/t1) + (0.5*(m/t1)) )\n",
    "\n",
    "    return p\n",
    "mendel(15,25,28)"
   ]
  }
 ],
 "metadata": {
  "kernelspec": {
   "display_name": "Python [Root]",
   "language": "python",
   "name": "Python [Root]"
  },
  "language_info": {
   "codemirror_mode": {
    "name": "ipython",
    "version": 3
   },
   "file_extension": ".py",
   "mimetype": "text/x-python",
   "name": "python",
   "nbconvert_exporter": "python",
   "pygments_lexer": "ipython3",
   "version": "3.5.2"
  }
 },
 "nbformat": 4,
 "nbformat_minor": 0
}
