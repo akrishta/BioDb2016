{
 "cells": [
  {
   "cell_type": "markdown",
   "metadata": {
    "collapsed": true
   },
   "source": [
    "find( ) function returns the index value of the given data that is to found in the string. If it is not found it returns -1. Remember to not confuse the returned -1 for reverse indexing value.\n",
    "\n"
   ]
  },
  {
   "cell_type": "code",
   "execution_count": 26,
   "metadata": {
    "collapsed": false
   },
   "outputs": [
    {
     "name": "stdout",
     "output_type": "stream",
     "text": [
      "2 43 50 62 110 134 158 180 203 256 398 481 488 541 637 671 678 685 692 717 724 745\n"
     ]
    }
   ],
   "source": [
    "fo = open('rosalind_subs.txt')\n",
    "lines = fo.readlines()\n",
    "my_list = []\n",
    "\n",
    "for line in lines:\n",
    "    e = line.strip()\n",
    "    my_list.append(e)\n",
    "#print(my_list)\n",
    "\n",
    "s = my_list[0]\n",
    "t = my_list[1]\n",
    "\n",
    "locations = []\n",
    "for i in range(0, len(s)-len(t)+1):\n",
    "    if s[i:i+len(t)] == t:\n",
    "        locations.append(str(i+1))\n",
    "\n",
    "print(' '.join(locations))"
   ]
  }
 ],
 "metadata": {
  "anaconda-cloud": {},
  "kernelspec": {
   "display_name": "Python [Root]",
   "language": "python",
   "name": "Python [Root]"
  },
  "language_info": {
   "codemirror_mode": {
    "name": "ipython",
    "version": 3
   },
   "file_extension": ".py",
   "mimetype": "text/x-python",
   "name": "python",
   "nbconvert_exporter": "python",
   "pygments_lexer": "ipython3",
   "version": "3.5.2"
  }
 },
 "nbformat": 4,
 "nbformat_minor": 0
}
