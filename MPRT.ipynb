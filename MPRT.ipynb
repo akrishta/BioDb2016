{
 "cells": [
  {
   "cell_type": "code",
   "execution_count": null,
   "metadata": {
    "collapsed": false
   },
   "outputs": [
    {
     "name": "stdout",
     "output_type": "stream",
     "text": [
      "A5GVY9\n",
      "319\n",
      "P25174\n",
      "17 32 56 97 116 132 151 178 183 198 325 670\n",
      "P02749_APOH_HUMAN\n",
      "162 183 193 253\n",
      "P02725_GLP_PIG\n",
      "16 19 39\n",
      "Q81QB7\n",
      "27\n",
      "Q0AYI5\n",
      "220\n",
      "P12923\n",
      "49 55 87\n",
      "P14210_HGF_HUMAN\n",
      "294 402 566 653\n",
      "P07585_PGS2_HUMAN\n",
      "211 262 303\n",
      "P19823_ITH2_HUMAN\n",
      "118 445\n",
      "P10643_CO7_HUMAN\n",
      "202 754\n"
     ]
    }
   ],
   "source": [
    "# Finding a Protein Motif --> MPRT\n",
    "\n",
    "import re\n",
    "import sys\n",
    "from Bio import SeqIO\n",
    "import requests\n",
    "from io import StringIO\n",
    "\n",
    "\n",
    "fid = open('rosalind_mprt.txt','r')\n",
    "accs = fid.read().strip().split('\\n')\n",
    "for acc in accs:\n",
    "    r = requests.get('http://www.uniprot.org/uniprot/%s.fasta' % acc)\n",
    "    s = SeqIO.read(StringIO(r.text), 'fasta')\n",
    "    mos = [x for x in re.finditer(r'(?=(N[^P][ST][^P]))',  str(s.seq))]\n",
    "    if not len(mos):\n",
    "        continue\n",
    "    print(acc)\n",
    "    print(' '.join([str(mo.start(0) + 1) for mo in mos]))\n",
    "\n"
   ]
  }
 ],
 "metadata": {
  "anaconda-cloud": {},
  "kernelspec": {
   "display_name": "Python [Root]",
   "language": "python",
   "name": "Python [Root]"
  },
  "language_info": {
   "codemirror_mode": {
    "name": "ipython",
    "version": 3
   },
   "file_extension": ".py",
   "mimetype": "text/x-python",
   "name": "python",
   "nbconvert_exporter": "python",
   "pygments_lexer": "ipython3",
   "version": "3.5.2"
  }
 },
 "nbformat": 4,
 "nbformat_minor": 0
}
