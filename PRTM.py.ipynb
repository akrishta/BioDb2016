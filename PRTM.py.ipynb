{
 "cells": [
  {
   "cell_type": "code",
   "execution_count": 71,
   "metadata": {
    "collapsed": false
   },
   "outputs": [
    {
     "name": "stdout",
     "output_type": "stream",
     "text": [
      "821.392\n"
     ]
    }
   ],
   "source": [
    "#PRTM\tCalculating Protein Mass\thttp://rosalind.info/problems/prtm/\n",
    "fo = open(\"sample.txt\")\n",
    "lines = fo.readlines()\n",
    "data = []\n",
    "for line in lines:\n",
    "    data = line.strip() \n",
    "\n",
    "table ={'A' : 71.03711,\n",
    "'C':   103.00919,\n",
    "'D':   115.02694,\n",
    "'E':   129.04259,\n",
    "'F':   147.06841,\n",
    "'G':   57.02146,\n",
    "'H':   137.05891,\n",
    "'I':   113.08406,\n",
    "'K':   128.09496,\n",
    "'L':   113.08406,\n",
    "'M':   131.04049,\n",
    "'N':   114.04293,\n",
    "'P':   97.05276,\n",
    "'Q':   128.05858,\n",
    "'R':   156.10111,\n",
    "'S':   87.03203,\n",
    "'T':   101.04768,\n",
    "'V':   99.06841,\n",
    "'W':   186.07931,\n",
    "'Y':   163.06333 }\n",
    "weight=[]\n",
    "for i in  range(len(data)):\n",
    "    weight.append(table[data[i]])\n",
    "    \n",
    "a = sum(weight)\n",
    "aa = round(a,3)\n",
    "print(aa)\n",
    "\n",
    "fo.close()\n",
    "\n"
   ]
  },
  {
   "cell_type": "code",
   "execution_count": 73,
   "metadata": {
    "collapsed": false
   },
   "outputs": [
    {
     "name": "stdout",
     "output_type": "stream",
     "text": [
      "97391.87505000032\n"
     ]
    }
   ],
   "source": [
    "MONOISOTOPIC_MASS_TABLE = {\n",
    "    'A': 71.03711,\n",
    "    'C': 103.00919,\n",
    "    'D': 115.02694,\n",
    "    'E': 129.04259,\n",
    "    'F': 147.06841,\n",
    "    'G': 57.02146,\n",
    "    'H': 137.05891,\n",
    "    'I': 113.08406,\n",
    "    'K': 128.09496,\n",
    "    'L': 113.08406,\n",
    "    'M': 131.04049,\n",
    "    'N': 114.04293,\n",
    "    'P': 97.05276,\n",
    "    'Q': 128.05858,\n",
    "    'R': 156.10111,\n",
    "    'S': 87.03203,\n",
    "    'T': 101.04768,\n",
    "    'V': 99.06841,\n",
    "    'W': 186.07931,\n",
    "    'Y': 163.06333,\n",
    "}\n",
    "\n",
    "def weight(weighted_string):\n",
    "    n = 0\n",
    "    for aa in weighted_string:\n",
    "        n += MONOISOTOPIC_MASS_TABLE[aa]\n",
    "    return n\n",
    "\n",
    "\n",
    "if __name__ == \"__main__\":\n",
    "\n",
    "    small_dataset = \"SKADYEK\"\n",
    "    large_dataset = open('rosalind_prtmm.txt').read().strip()\n",
    "\n",
    "    print(weight(large_dataset))"
   ]
  }
 ],
 "metadata": {
  "kernelspec": {
   "display_name": "Python [Root]",
   "language": "python",
   "name": "Python [Root]"
  },
  "language_info": {
   "codemirror_mode": {
    "name": "ipython",
    "version": 3
   },
   "file_extension": ".py",
   "mimetype": "text/x-python",
   "name": "python",
   "nbconvert_exporter": "python",
   "pygments_lexer": "ipython3",
   "version": "3.5.2"
  }
 },
 "nbformat": 4,
 "nbformat_minor": 0
}
