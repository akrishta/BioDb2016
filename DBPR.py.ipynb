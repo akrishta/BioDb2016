{
 "cells": [
  {
   "cell_type": "code",
   "execution_count": 2,
   "metadata": {
    "collapsed": false
   },
   "outputs": [
    {
     "name": "stdout",
     "output_type": "stream",
     "text": [
      "DNA recombination\n",
      "DNA repair\n",
      "DNA replication\n"
     ]
    }
   ],
   "source": [
    "from Bio import ExPASy\n",
    "from Bio import SwissProt\n",
    "\n",
    "#code = input(\"protein code\")\n",
    "\n",
    "handle = ExPASy.get_sprot_raw('Q5SLP9') #you can give several IDs separated by commas  . Paste ID here\n",
    "record = SwissProt.read(handle) # use SwissProt.parse for multiple proteins\n",
    "#print(type(handle))\n",
    "\n",
    "type(record.cross_references) # list\n",
    "for e in record.cross_references:\n",
    "    if e[0] ==\"GO\" and e[2][0] == 'P':\n",
    "        print(e[2][2:])\n"
   ]
  }
 ],
 "metadata": {
  "anaconda-cloud": {},
  "kernelspec": {
   "display_name": "Python [Root]",
   "language": "python",
   "name": "Python [Root]"
  },
  "language_info": {
   "codemirror_mode": {
    "name": "ipython",
    "version": 3
   },
   "file_extension": ".py",
   "mimetype": "text/x-python",
   "name": "python",
   "nbconvert_exporter": "python",
   "pygments_lexer": "ipython3",
   "version": "3.5.2"
  }
 },
 "nbformat": 4,
 "nbformat_minor": 0
}
