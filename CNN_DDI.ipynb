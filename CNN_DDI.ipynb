{
  "nbformat": 4,
  "nbformat_minor": 0,
  "metadata": {
    "colab": {
      "name": "TestNotebook.ipynb",
      "provenance": [],
      "authorship_tag": "ABX9TyPMitgi9vLcIImRRXXXs+k7",
      "include_colab_link": true
    },
    "kernelspec": {
      "name": "python3",
      "display_name": "Python 3"
    },
    "language_info": {
      "name": "python"
    }
  },
  "cells": [
    {
      "cell_type": "markdown",
      "metadata": {
        "id": "view-in-github",
        "colab_type": "text"
      },
      "source": [
        "<a href=\"https://colab.research.google.com/github/akrishta305/BioDb2016/blob/master/CNN_DDI.ipynb\" target=\"_parent\"><img src=\"https://colab.research.google.com/assets/colab-badge.svg\" alt=\"Open In Colab\"/></a>"
      ]
    },
    {
      "cell_type": "markdown",
      "source": [
        "**CNN - DDI**\n",
        "\n",
        "Run code for paper titled 'a learning-based method for predicting drug–drug interactions using convolution neural networks'*italicized text*# New Section\n",
        "\n",
        "Reference link:\n",
        "https://bmcbioinformatics.biomedcentral.com/articles/10.1186/s12859-022-04612-2\n",
        "\n",
        "https://go.drugbank.com/\n",
        "\n",
        "https://github.com/YifanDengWHU/DDIMDL"
      ],
      "metadata": {
        "id": "68I2uPVv-drY"
      }
    },
    {
      "cell_type": "code",
      "source": [
        ""
      ],
      "metadata": {
        "id": "zr2zvdk0-J89"
      },
      "execution_count": null,
      "outputs": []
    }
  ]
}