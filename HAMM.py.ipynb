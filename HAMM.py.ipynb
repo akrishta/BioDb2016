{
 "cells": [
  {
   "cell_type": "code",
   "execution_count": null,
   "metadata": {
    "collapsed": true
   },
   "outputs": [],
   "source": [
    "# - HAMM\tCounting Point Mutations\n",
    "fo5 = open('rosalind_hamm.txt','r')\n",
    "lines55 = fo5.readlines()\n",
    "\n",
    "aa = lines55[0]\n",
    "bb = lines55[1]\n",
    "        \n",
    "def hamming(x,y):\n",
    "    count= 0 \n",
    "    for place1 ,place2 in zip(x,y):\n",
    "        if place1 == place2:\n",
    "            continue\n",
    "        else:\n",
    "            count=count+1\n",
    "    return count\n",
    "    \n",
    "                \n",
    "a = hamming(aa,bb)\n",
    "print(a)\n"
   ]
  }
 ],
 "metadata": {
  "kernelspec": {
   "display_name": "Python [Root]",
   "language": "python",
   "name": "Python [Root]"
  },
  "language_info": {
   "codemirror_mode": {
    "name": "ipython",
    "version": 3
   },
   "file_extension": ".py",
   "mimetype": "text/x-python",
   "name": "python",
   "nbconvert_exporter": "python",
   "pygments_lexer": "ipython3",
   "version": "3.5.2"
  }
 },
 "nbformat": 4,
 "nbformat_minor": 0
}
