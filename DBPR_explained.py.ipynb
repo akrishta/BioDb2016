{
 "cells": [
  {
   "cell_type": "code",
   "execution_count": 1,
   "metadata": {
    "collapsed": false
   },
   "outputs": [
    {
     "name": "stdout",
     "output_type": "stream",
     "text": [
      "Collecting Biopython\n",
      "  Downloading biopython-1.68.tar.gz (14.4MB)\n",
      "Building wheels for collected packages: Biopython\n",
      "  Running setup.py bdist_wheel for Biopython: started\n",
      "  Running setup.py bdist_wheel for Biopython: finished with status 'done'\n",
      "  Stored in directory: C:\\Users\\Dell\\AppData\\Local\\pip\\Cache\\wheels\\a7\\40\\7e\\cf0e1056601c97bbf42acac9cbb4b2c69a5c0e982873a2fe81\n",
      "Successfully built Biopython\n",
      "Installing collected packages: Biopython\n",
      "Successfully installed Biopython-1.68\n"
     ]
    },
    {
     "data": {
      "text/plain": [
       "0"
      ]
     },
     "execution_count": 1,
     "metadata": {},
     "output_type": "execute_result"
    }
   ],
   "source": [
    "import pip\n",
    "pip.commands.install.InstallCommand().main([' Biopython'])\n"
   ]
  },
  {
   "cell_type": "code",
   "execution_count": 18,
   "metadata": {
    "collapsed": false
   },
   "outputs": [
    {
     "name": "stdout",
     "output_type": "stream",
     "text": [
      "('EMBL', 'AF079160', 'AAC28386.2', '-', 'Genomic_DNA')\n",
      "('EMBL', 'AJ564626', 'CAD92097.1', '-', 'Genomic_DNA')\n",
      "('EMBL', 'AP008226', 'BAD70067.1', '-', 'Genomic_DNA')\n",
      "('RefSeq', 'WP_011227803.1', 'NC_006461.1')\n",
      "('RefSeq', 'YP_143510.1', 'NC_006461.1')\n",
      "('PDB', '2CWA', 'X-ray', '1.96 A', 'A=1-263')\n",
      "('PDBsum', '2CWA', '-')\n",
      "('ProteinModelPortal', 'Q5SLP9', '-')\n",
      "('SMR', 'Q5SLP9', '1-259')\n",
      "('STRING', '300852.TTHA0244', '-')\n",
      "('EnsemblBacteria', 'BAD70067', 'BAD70067', 'BAD70067')\n",
      "('GeneID', '3167973', '-')\n",
      "('KEGG', 'ttj:TTHA0244', '-')\n",
      "('PATRIC', '23955433', 'VBITheThe93045_0244')\n",
      "('eggNOG', 'ENOG4105Z8H', 'Bacteria')\n",
      "('eggNOG', 'COG0629', 'LUCA')\n",
      "('HOGENOM', 'HOG000023350', '-')\n",
      "('KO', 'K03111', '-')\n",
      "('OMA', 'ARGMNHV', '-')\n",
      "('BioCyc', 'TTHE300852:GH8R-253-MONOMER', '-')\n",
      "('EvolutionaryTrace', 'Q5SLP9', '-')\n",
      "('Proteomes', 'UP000000532', 'Chromosome')\n",
      "('GO', 'GO:0003697', 'F:single-stranded DNA binding', 'IEA:UniProtKB-HAMAP')\n",
      "('GO', 'GO:0006310', 'P:DNA recombination', 'IEA:UniProtKB-HAMAP')\n",
      "('GO', 'GO:0006281', 'P:DNA repair', 'IEA:UniProtKB-HAMAP')\n",
      "('GO', 'GO:0006260', 'P:DNA replication', 'IEA:UniProtKB-HAMAP')\n",
      "('Gene3D', '2.40.50.140', '-', '2')\n",
      "('HAMAP', 'MF_00984', 'SSB', '1')\n",
      "('InterPro', 'IPR012340', 'NA-bd_OB-fold')\n",
      "('InterPro', 'IPR000424', 'Primosome_PriB/ssb')\n",
      "('InterPro', 'IPR011344', 'ssDNA-bd')\n",
      "('PANTHER', 'PTHR10302', 'PTHR10302', '1')\n",
      "('Pfam', 'PF00436', 'SSB', '2')\n",
      "('SUPFAM', 'SSF50249', 'SSF50249', '2')\n",
      "('TIGRFAMs', 'TIGR00621', 'ssb', '2')\n",
      "('PROSITE', 'PS50935', 'SSB', '2')\n"
     ]
    }
   ],
   "source": [
    "from Bio import ExPASy\n",
    "from Bio import SwissProt\n",
    "handle = ExPASy.get_sprot_raw('Q5SLP9') #you can give several IDs separated by commas\n",
    "record = SwissProt.read(handle) # use SwissProt.parse for multiple proteins\n",
    "\n",
    "type(record.cross_references) # list\n",
    "for e in record.cross_references:\n",
    "    print(e)\n",
    "    "
   ]
  },
  {
   "cell_type": "code",
   "execution_count": 21,
   "metadata": {
    "collapsed": false
   },
   "outputs": [
    {
     "name": "stdout",
     "output_type": "stream",
     "text": [
      "G G F : single-stranded DNA binding\n",
      "G G P : DNA recombination\n",
      "G G P : DNA repair\n",
      "G G P : DNA replication\n"
     ]
    }
   ],
   "source": [
    "from Bio import ExPASy\n",
    "from Bio import SwissProt\n",
    "handle = ExPASy.get_sprot_raw('Q5SLP9') #you can give several IDs separated by commas\n",
    "record = SwissProt.read(handle) # use SwissProt.parse for multiple proteins\n",
    "\n",
    "type(record.cross_references) # list\n",
    "for e in record.cross_references:\n",
    "    if e[0] ==\"GO\":\n",
    "        print(e[0][0],e[1][0],e[2][0],e[2][1],e[2][2:])\n",
    "    else:\n",
    "        continue\n",
    "         "
   ]
  },
  {
   "cell_type": "code",
   "execution_count": 24,
   "metadata": {
    "collapsed": false
   },
   "outputs": [
    {
     "name": "stdout",
     "output_type": "stream",
     "text": [
      "plasma membrane ATP synthesis coupled proton transport\n",
      "sodium ion transport\n"
     ]
    }
   ],
   "source": [
    "from Bio import ExPASy\n",
    "from Bio import SwissProt\n",
    "handle = ExPASy.get_sprot_raw('P50009') #you can give several IDs separated by commas\n",
    "record = SwissProt.read(handle) # use SwissProt.parse for multiple proteins\n",
    "\n",
    "type(record.cross_references) # list\n",
    "for e in record.cross_references:\n",
    "    if e[0] ==\"GO\" and e[2][0] == 'P':\n",
    "        print(e[2][2:])\n",
    "    else:\n",
    "        continue"
   ]
  },
  {
   "cell_type": "code",
   "execution_count": 42,
   "metadata": {
    "collapsed": false
   },
   "outputs": [
    {
     "name": "stdout",
     "output_type": "stream",
     "text": [
      "DNA recombination\n",
      "DNA repair\n",
      "DNA replication\n"
     ]
    }
   ],
   "source": [
    "from Bio import ExPASy\n",
    "from Bio import SwissProt\n",
    "\n",
    "#code = input(\"protein code\")\n",
    "\n",
    "handle = ExPASy.get_sprot_raw('Q5SLP9') #you can give several IDs separated by commas  . Paste ID here\n",
    "record = SwissProt.read(handle) # use SwissProt.parse for multiple proteins\n",
    "\n",
    "type(record.cross_references) # list\n",
    "for e in record.cross_references:\n",
    "    if e[0] ==\"GO\" and e[2][0] == 'P':\n",
    "        print(e[2][2:])\n",
    "    else:\n",
    "        continue\n",
    " \n"
   ]
  }
 ],
 "metadata": {
  "anaconda-cloud": {},
  "kernelspec": {
   "display_name": "Python [Root]",
   "language": "python",
   "name": "Python [Root]"
  },
  "language_info": {
   "codemirror_mode": {
    "name": "ipython",
    "version": 3
   },
   "file_extension": ".py",
   "mimetype": "text/x-python",
   "name": "python",
   "nbconvert_exporter": "python",
   "pygments_lexer": "ipython3",
   "version": "3.5.2"
  }
 },
 "nbformat": 4,
 "nbformat_minor": 0
}
