{
 "cells": [
  {
   "cell_type": "code",
   "execution_count": 16,
   "metadata": {
    "collapsed": false
   },
   "outputs": [
    {
     "data": {
      "text/plain": [
       "574888488199"
      ]
     },
     "execution_count": 16,
     "metadata": {},
     "output_type": "execute_result"
    }
   ],
   "source": [
    "#FIB\tRabbits and Recurrence Relations\n",
    "\n",
    "def bunny(n,k):\n",
    "    old = 0 # fertile rabbit\n",
    "    new = 1  # infertile rabbit\n",
    "    total = 0 \n",
    "    for i in range(2,n+1):\n",
    "        total = old*k+old+new\n",
    "        old= old+new\n",
    "        new=total-old   \n",
    "    return total\n",
    "bunny(34,3)"
   ]
  }
 ],
 "metadata": {
  "kernelspec": {
   "display_name": "Python [Root]",
   "language": "python",
   "name": "Python [Root]"
  },
  "language_info": {
   "codemirror_mode": {
    "name": "ipython",
    "version": 3
   },
   "file_extension": ".py",
   "mimetype": "text/x-python",
   "name": "python",
   "nbconvert_exporter": "python",
   "pygments_lexer": "ipython3",
   "version": "3.5.2"
  }
 },
 "nbformat": 4,
 "nbformat_minor": 0
}
