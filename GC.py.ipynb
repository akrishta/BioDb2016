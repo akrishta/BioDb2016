{
 "cells": [
  {
   "cell_type": "code",
   "execution_count": null,
   "metadata": {
    "collapsed": true
   },
   "outputs": [],
   "source": [
    "# GC\tComputing GC Content\n",
    "\n",
    "fo4 = open('rosalind_gc.txt')\n",
    "lines44 = fo4.readlines()\n",
    "\n",
    "#changing fasta file to a dict\n",
    "def getdata(lines44):\n",
    "    my_dict = {}\n",
    "    sample = ''\n",
    "    strlines =[]\n",
    "    for line in lines44:\n",
    "        strlines = line.strip()\n",
    "        if (strlines.startswith( '>' )):\n",
    "            my_key=strlines[1:]\n",
    "        else:\n",
    "            sample = sample+strlines\n",
    "            my_dict[my_key] = sample\n",
    "            sample=''\n",
    "    return my_dict\n",
    "\n",
    "# calculating gc content\n",
    "\n",
    "def countgc(a_dict):\n",
    "    my_GC = {}\n",
    "    for e in a_dict.keys():\n",
    "        my_key2 = e\n",
    "        a_value = a_dict[e] # find count in value of a key\n",
    "        a = a_value.count('A')\n",
    "        c = a_value.count('C')\n",
    "        t = a_value.count('T')\n",
    "        g = a_value.count('G')\n",
    "        gc_count = c+g\n",
    "        total = a+t+g+c\n",
    "        percentage_cg = (gc_count/(len(a_value)))*100\n",
    "        my_GC[my_key2] = percentage_cg\n",
    "        \n",
    "    return my_GC\n",
    "\n",
    "def biggest_key(b_dict):\n",
    "    rep = max(b_dict, key=b_dict.get)\n",
    "    return rep \n",
    "\n",
    "x= getdata(lines44) # we got fasta as dict\n",
    "y= countgc(x) # dict with key as id and value as GC content \n",
    "z = biggest_key(y) # gives key with biggest value\n",
    "print(z)\n",
    "print(y[z])\n",
    "\n",
    "#fo4.close()\n",
    "\n",
    "\n"
   ]
  }
 ],
 "metadata": {
  "anaconda-cloud": {},
  "kernelspec": {
   "display_name": "Python [Root]",
   "language": "python",
   "name": "Python [Root]"
  },
  "language_info": {
   "codemirror_mode": {
    "name": "ipython",
    "version": 3
   },
   "file_extension": ".py",
   "mimetype": "text/x-python",
   "name": "python",
   "nbconvert_exporter": "python",
   "pygments_lexer": "ipython3",
   "version": "3.5.2"
  }
 },
 "nbformat": 4,
 "nbformat_minor": 0
}
