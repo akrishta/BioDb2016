{
 "cells": [
  {
   "cell_type": "code",
   "execution_count": 1,
   "metadata": {
    "collapsed": false
   },
   "outputs": [
    {
     "name": "stdout",
     "output_type": "stream",
     "text": [
      "211 198 222 180\n"
     ]
    }
   ],
   "source": [
    "#DNA\tCounting DNA Nucleotides\n",
    "\n",
    "fo = open('rosalind_dnaa.txt','r')\n",
    "lines1 = fo.readlines()\n",
    "\n",
    "def getdata(foo):\n",
    "    for line in lines1:\n",
    "        return line.strip('\\n')\n",
    "    \n",
    "seq = getdata(fo)\n",
    "a = seq.count('A')\n",
    "t = seq.count('T')\n",
    "g = seq.count('G')\n",
    "c = seq.count('C')\n",
    "print('{} {} {} {}'.format(a,c,g,t))"
   ]
  },
  {
   "cell_type": "code",
   "execution_count": 2,
   "metadata": {
    "collapsed": false
   },
   "outputs": [
    {
     "ename": "NameError",
     "evalue": "name 'seq_stripped' is not defined",
     "output_type": "error",
     "traceback": [
      "\u001b[1;31m---------------------------------------------------------------------------\u001b[0m",
      "\u001b[1;31mNameError\u001b[0m                                 Traceback (most recent call last)",
      "\u001b[1;32m<ipython-input-2-8dbf69692b5b>\u001b[0m in \u001b[0;36m<module>\u001b[1;34m()\u001b[0m\n\u001b[0;32m     10\u001b[0m \u001b[1;33m\u001b[0m\u001b[0m\n\u001b[0;32m     11\u001b[0m \u001b[0mseq_stripped2\u001b[0m \u001b[1;33m=\u001b[0m \u001b[0mgetdata\u001b[0m\u001b[1;33m(\u001b[0m\u001b[0mfo2\u001b[0m\u001b[1;33m)\u001b[0m\u001b[1;33m\u001b[0m\u001b[0m\n\u001b[1;32m---> 12\u001b[1;33m \u001b[0mseq_stripped\u001b[0m\u001b[1;33m.\u001b[0m\u001b[0mreplace\u001b[0m\u001b[1;33m(\u001b[0m\u001b[1;34m'T'\u001b[0m\u001b[1;33m,\u001b[0m \u001b[1;34m'U'\u001b[0m\u001b[1;33m)\u001b[0m\u001b[1;33m\u001b[0m\u001b[0m\n\u001b[0m\u001b[0;32m     13\u001b[0m \u001b[1;33m\u001b[0m\u001b[0m\n",
      "\u001b[1;31mNameError\u001b[0m: name 'seq_stripped' is not defined"
     ]
    }
   ],
   "source": [
    "#RNA\tTranscribing DNA into RNA\n",
    "\n",
    "\n",
    "fo2 = open('sample2.txt','r')\n",
    "lines2 = fo2.readlines()\n",
    "\n",
    "def getdata(foo):\n",
    "    for line in lines2:\n",
    "        return line.strip('\\n')\n",
    "    \n",
    "seq_stripped2 = getdata(fo2)    \n",
    "seq_stripped.replace('T', 'U')\n",
    "  "
   ]
  },
  {
   "cell_type": "code",
   "execution_count": null,
   "metadata": {
    "collapsed": false
   },
   "outputs": [],
   "source": [
    "# REVC\tComplementing a Strand of DNA\n",
    "\n",
    "seq3 = 'AAAACCCGGT'\n",
    "#fo3 = open('sample3.txt','r')\n",
    "#lines3 = fo3.readlines()\n",
    "\n",
    "def getdata(foo):\n",
    "    for line in lines3:\n",
    "        return line.strip('\\n')\n",
    "    \n",
    "seq_stripped3 = getdata(fo3)\n",
    "seq_stripped3\n",
    "\n",
    "def opp(my_dna):\n",
    "    ans =[]\n",
    "    my_list = list(my_dna)\n",
    "    my_list.reverse()\n",
    "    return my_list\n",
    "            \n",
    "x=opp(seq3)\n",
    "def comple(rev):\n",
    "    com =[]\n",
    "    for i in rev:\n",
    "        if i == 'T':\n",
    "            i = 'A'\n",
    "            com.append(i)\n",
    "        elif i == 'C':\n",
    "            i = 'G'\n",
    "            com.append(i)\n",
    "        elif i == 'G':\n",
    "            i = 'C'\n",
    "            com.append(i)\n",
    "        else:\n",
    "            i = 'T'\n",
    "            com.append(i)\n",
    "       \n",
    "    return com\n",
    "\n",
    "y = comple(x)\n",
    "z = ''.join(y)\n",
    "print(z)"
   ]
  },
  {
   "cell_type": "code",
   "execution_count": 13,
   "metadata": {
    "collapsed": false
   },
   "outputs": [
    {
     "data": {
      "text/plain": [
       "'>Rosalind_6404'"
      ]
     },
     "execution_count": 13,
     "metadata": {},
     "output_type": "execute_result"
    }
   ],
   "source": [
    "# - GC\tComputing GC Content\n",
    "fo4 = open('sample4.txt','r')\n",
    "lines4 = fo4.readlines()\n",
    "\n",
    "a= 0 \n",
    "t= 0\n",
    "g= 0\n",
    "c= 0 \n",
    "\n",
    "for line in lines4:\n",
    "    line = line.lower()\n",
    "    for char in line:\n",
    "        if char == 'G':\n",
    "            g=g+1\n",
    "        if char == 'A':\n",
    "            a=a+1\n",
    "        if char == 'T':\n",
    "            t=t+1\n",
    "        if char == 'C':\n",
    "            c=c+1\n",
    "    \n",
    "getdata(lines4)    \n",
    "    "
   ]
  },
  {
   "cell_type": "code",
   "execution_count": null,
   "metadata": {
    "collapsed": false
   },
   "outputs": [],
   "source": [
    "fo4 = open('sample4.txt','r')\n",
    "lines4 = fo4.readlines()\n",
    "\n",
    "samples = []\n",
    "head = []\n",
    "        \n",
    "for elem in range(len(lines4)): # 1 to 9 \n",
    "    if lines4[elem][0] == '>':\n",
    "        head.append(lines4[elem])\n",
    "    else:\n",
    "        while lines4[elem][-1] == '\\n' and lines4[elem][0] != '>':\n",
    "            samples.append(lines4[elem])\n",
    "            \n",
    "    \n",
    "    \n",
    "\n",
    "    \n",
    "print(samples)\n",
    "print(head)"
   ]
  }
 ],
 "metadata": {
  "anaconda-cloud": {},
  "kernelspec": {
   "display_name": "Python [Root]",
   "language": "python",
   "name": "Python [Root]"
  },
  "language_info": {
   "codemirror_mode": {
    "name": "ipython",
    "version": 3
   },
   "file_extension": ".py",
   "mimetype": "text/x-python",
   "name": "python",
   "nbconvert_exporter": "python",
   "pygments_lexer": "ipython3",
   "version": "3.5.2"
  }
 },
 "nbformat": 4,
 "nbformat_minor": 0
}
