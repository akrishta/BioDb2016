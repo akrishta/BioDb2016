{
 "cells": [
  {
   "cell_type": "code",
   "execution_count": 1,
   "metadata": {
    "collapsed": true
   },
   "outputs": [],
   "source": [
    "import pandas as pd\n",
    "import pymysql\n",
    "import re,json,os"
   ]
  },
  {
   "cell_type": "code",
   "execution_count": 6,
   "metadata": {
    "collapsed": false
   },
   "outputs": [],
   "source": [
    "base = os.environ['BUG_FREE_EUREKA_BASE']\n",
    "pathTofile = os.path.join(base,'data','exercise06','E-TABM-713_A-MEXP-1551-analytics.tsv')\n",
    "\n",
    "with open(os.path.join(base,'secrets.json'))as f :\n",
    "    secrets = json.load(f)"
   ]
  },
  {
   "cell_type": "code",
   "execution_count": 16,
   "metadata": {
    "collapsed": false
   },
   "outputs": [
    {
     "name": "stderr",
     "output_type": "stream",
     "text": [
      "C:\\Users\\Dell\\Anaconda3\\lib\\site-packages\\pymysql\\cursors.py:323: Warning: (1007, \"Can't create database 'biodb'; database exists\")\n",
      "  self._do_get_result()\n"
     ]
    },
    {
     "data": {
      "text/plain": [
       "1"
      ]
     },
     "execution_count": 16,
     "metadata": {},
     "output_type": "execute_result"
    }
   ],
   "source": [
    "   \n",
    "# connection to database\n",
    "conn = pymysql.connect(**secrets['test_db'])\n",
    "cursor = conn.cursor(pymysql.cursors.DictCursor) # (to get data in form of dict)\n",
    "\n",
    "# before we get a table, we need to create a database\n",
    "cursor.execute('create database if not exists biodb')"
   ]
  },
  {
   "cell_type": "code",
   "execution_count": 17,
   "metadata": {
    "collapsed": false
   },
   "outputs": [
    {
     "data": {
      "text/html": [
       "<div>\n",
       "<table border=\"1\" class=\"dataframe\">\n",
       "  <thead>\n",
       "    <tr style=\"text-align: right;\">\n",
       "      <th></th>\n",
       "      <th>Gene ID</th>\n",
       "      <th>Gene Name</th>\n",
       "      <th>Design Element</th>\n",
       "      <th>g1_g2.p-value</th>\n",
       "      <th>g1_g2.t-statistic</th>\n",
       "      <th>g1_g2.log2foldchange</th>\n",
       "    </tr>\n",
       "  </thead>\n",
       "  <tbody>\n",
       "    <tr>\n",
       "      <th>0</th>\n",
       "      <td>MIMAT0000062</td>\n",
       "      <td>MIMAT0000062</td>\n",
       "      <td>A_25_P00010086</td>\n",
       "      <td>0.702506</td>\n",
       "      <td>0.625362</td>\n",
       "      <td>0.078492</td>\n",
       "    </tr>\n",
       "    <tr>\n",
       "      <th>1</th>\n",
       "      <td>MIMAT0000062</td>\n",
       "      <td>MIMAT0000062</td>\n",
       "      <td>A_25_P00011584</td>\n",
       "      <td>0.975514</td>\n",
       "      <td>0.065110</td>\n",
       "      <td>0.007410</td>\n",
       "    </tr>\n",
       "    <tr>\n",
       "      <th>2</th>\n",
       "      <td>MIMAT0000063</td>\n",
       "      <td>MIMAT0000063</td>\n",
       "      <td>A_25_P00010070</td>\n",
       "      <td>0.139014</td>\n",
       "      <td>2.431636</td>\n",
       "      <td>0.556112</td>\n",
       "    </tr>\n",
       "    <tr>\n",
       "      <th>3</th>\n",
       "      <td>MIMAT0000063</td>\n",
       "      <td>MIMAT0000063</td>\n",
       "      <td>A_25_P00010071</td>\n",
       "      <td>0.049728</td>\n",
       "      <td>3.254492</td>\n",
       "      <td>0.811621</td>\n",
       "    </tr>\n",
       "    <tr>\n",
       "      <th>4</th>\n",
       "      <td>MIMAT0000064</td>\n",
       "      <td>MIMAT0000064</td>\n",
       "      <td>A_25_P00010072</td>\n",
       "      <td>0.098283</td>\n",
       "      <td>2.697813</td>\n",
       "      <td>0.757066</td>\n",
       "    </tr>\n",
       "  </tbody>\n",
       "</table>\n",
       "</div>"
      ],
      "text/plain": [
       "        Gene ID     Gene Name  Design Element  g1_g2.p-value  \\\n",
       "0  MIMAT0000062  MIMAT0000062  A_25_P00010086       0.702506   \n",
       "1  MIMAT0000062  MIMAT0000062  A_25_P00011584       0.975514   \n",
       "2  MIMAT0000063  MIMAT0000063  A_25_P00010070       0.139014   \n",
       "3  MIMAT0000063  MIMAT0000063  A_25_P00010071       0.049728   \n",
       "4  MIMAT0000064  MIMAT0000064  A_25_P00010072       0.098283   \n",
       "\n",
       "   g1_g2.t-statistic  g1_g2.log2foldchange  \n",
       "0           0.625362              0.078492  \n",
       "1           0.065110              0.007410  \n",
       "2           2.431636              0.556112  \n",
       "3           3.254492              0.811621  \n",
       "4           2.697813              0.757066  "
      ]
     },
     "execution_count": 17,
     "metadata": {},
     "output_type": "execute_result"
    }
   ],
   "source": [
    "#load data into dataframe\n",
    "df = pd.read_csv(pathTofile, sep = '\\t')\n",
    "df.head()"
   ]
  },
  {
   "cell_type": "code",
   "execution_count": 18,
   "metadata": {
    "collapsed": false
   },
   "outputs": [
    {
     "name": "stderr",
     "output_type": "stream",
     "text": [
      "C:\\Users\\Dell\\Anaconda3\\lib\\site-packages\\pandas\\core\\generic.py:1165: FutureWarning: The 'mysql' flavor with DBAPI connection is deprecated and will be removed in future versions. MySQL will be further supported with SQLAlchemy connectables.\n",
      "  chunksize=chunksize, dtype=dtype)\n"
     ]
    },
    {
     "ename": "ValueError",
     "evalue": "Table 'dea' already exists.",
     "output_type": "error",
     "traceback": [
      "\u001b[1;31m---------------------------------------------------------------------------\u001b[0m",
      "\u001b[1;31mValueError\u001b[0m                                Traceback (most recent call last)",
      "\u001b[1;32m<ipython-input-18-9ee7ecc5b527>\u001b[0m in \u001b[0;36m<module>\u001b[1;34m()\u001b[0m\n\u001b[0;32m      6\u001b[0m \u001b[1;33m\u001b[0m\u001b[0m\n\u001b[0;32m      7\u001b[0m \u001b[0mdf\u001b[0m\u001b[1;33m.\u001b[0m\u001b[0mcolumns\u001b[0m \u001b[1;33m=\u001b[0m \u001b[1;33m[\u001b[0m\u001b[0mre\u001b[0m\u001b[1;33m.\u001b[0m\u001b[0msub\u001b[0m\u001b[1;33m(\u001b[0m\u001b[1;34m'[ .-]'\u001b[0m\u001b[1;33m,\u001b[0m\u001b[1;34m''\u001b[0m\u001b[1;33m,\u001b[0m\u001b[0mx\u001b[0m\u001b[1;33m)\u001b[0m \u001b[1;32mfor\u001b[0m \u001b[0mx\u001b[0m \u001b[1;32min\u001b[0m \u001b[0mdf\u001b[0m\u001b[1;33m.\u001b[0m\u001b[0mcolumns\u001b[0m\u001b[1;33m]\u001b[0m\u001b[1;33m\u001b[0m\u001b[0m\n\u001b[1;32m----> 8\u001b[1;33m \u001b[0mdf\u001b[0m\u001b[1;33m.\u001b[0m\u001b[0mto_sql\u001b[0m\u001b[1;33m(\u001b[0m\u001b[1;34m'dea'\u001b[0m\u001b[1;33m,\u001b[0m\u001b[0mconn\u001b[0m\u001b[1;33m,\u001b[0m\u001b[0mflavor\u001b[0m \u001b[1;33m=\u001b[0m \u001b[1;34m'mysql'\u001b[0m\u001b[1;33m)\u001b[0m\u001b[1;33m\u001b[0m\u001b[0m\n\u001b[0m",
      "\u001b[1;32mC:\\Users\\Dell\\Anaconda3\\lib\\site-packages\\pandas\\core\\generic.py\u001b[0m in \u001b[0;36mto_sql\u001b[1;34m(self, name, con, flavor, schema, if_exists, index, index_label, chunksize, dtype)\u001b[0m\n\u001b[0;32m   1163\u001b[0m         sql.to_sql(self, name, con, flavor=flavor, schema=schema,\n\u001b[0;32m   1164\u001b[0m                    \u001b[0mif_exists\u001b[0m\u001b[1;33m=\u001b[0m\u001b[0mif_exists\u001b[0m\u001b[1;33m,\u001b[0m \u001b[0mindex\u001b[0m\u001b[1;33m=\u001b[0m\u001b[0mindex\u001b[0m\u001b[1;33m,\u001b[0m \u001b[0mindex_label\u001b[0m\u001b[1;33m=\u001b[0m\u001b[0mindex_label\u001b[0m\u001b[1;33m,\u001b[0m\u001b[1;33m\u001b[0m\u001b[0m\n\u001b[1;32m-> 1165\u001b[1;33m                    chunksize=chunksize, dtype=dtype)\n\u001b[0m\u001b[0;32m   1166\u001b[0m \u001b[1;33m\u001b[0m\u001b[0m\n\u001b[0;32m   1167\u001b[0m     \u001b[1;32mdef\u001b[0m \u001b[0mto_pickle\u001b[0m\u001b[1;33m(\u001b[0m\u001b[0mself\u001b[0m\u001b[1;33m,\u001b[0m \u001b[0mpath\u001b[0m\u001b[1;33m)\u001b[0m\u001b[1;33m:\u001b[0m\u001b[1;33m\u001b[0m\u001b[0m\n",
      "\u001b[1;32mC:\\Users\\Dell\\Anaconda3\\lib\\site-packages\\pandas\\io\\sql.py\u001b[0m in \u001b[0;36mto_sql\u001b[1;34m(frame, name, con, flavor, schema, if_exists, index, index_label, chunksize, dtype)\u001b[0m\n\u001b[0;32m    569\u001b[0m     pandas_sql.to_sql(frame, name, if_exists=if_exists, index=index,\n\u001b[0;32m    570\u001b[0m                       \u001b[0mindex_label\u001b[0m\u001b[1;33m=\u001b[0m\u001b[0mindex_label\u001b[0m\u001b[1;33m,\u001b[0m \u001b[0mschema\u001b[0m\u001b[1;33m=\u001b[0m\u001b[0mschema\u001b[0m\u001b[1;33m,\u001b[0m\u001b[1;33m\u001b[0m\u001b[0m\n\u001b[1;32m--> 571\u001b[1;33m                       chunksize=chunksize, dtype=dtype)\n\u001b[0m\u001b[0;32m    572\u001b[0m \u001b[1;33m\u001b[0m\u001b[0m\n\u001b[0;32m    573\u001b[0m \u001b[1;33m\u001b[0m\u001b[0m\n",
      "\u001b[1;32mC:\\Users\\Dell\\Anaconda3\\lib\\site-packages\\pandas\\io\\sql.py\u001b[0m in \u001b[0;36mto_sql\u001b[1;34m(self, frame, name, if_exists, index, index_label, schema, chunksize, dtype)\u001b[0m\n\u001b[0;32m   1659\u001b[0m                             \u001b[0mif_exists\u001b[0m\u001b[1;33m=\u001b[0m\u001b[0mif_exists\u001b[0m\u001b[1;33m,\u001b[0m \u001b[0mindex_label\u001b[0m\u001b[1;33m=\u001b[0m\u001b[0mindex_label\u001b[0m\u001b[1;33m,\u001b[0m\u001b[1;33m\u001b[0m\u001b[0m\n\u001b[0;32m   1660\u001b[0m                             dtype=dtype)\n\u001b[1;32m-> 1661\u001b[1;33m         \u001b[0mtable\u001b[0m\u001b[1;33m.\u001b[0m\u001b[0mcreate\u001b[0m\u001b[1;33m(\u001b[0m\u001b[1;33m)\u001b[0m\u001b[1;33m\u001b[0m\u001b[0m\n\u001b[0m\u001b[0;32m   1662\u001b[0m         \u001b[0mtable\u001b[0m\u001b[1;33m.\u001b[0m\u001b[0minsert\u001b[0m\u001b[1;33m(\u001b[0m\u001b[0mchunksize\u001b[0m\u001b[1;33m)\u001b[0m\u001b[1;33m\u001b[0m\u001b[0m\n\u001b[0;32m   1663\u001b[0m \u001b[1;33m\u001b[0m\u001b[0m\n",
      "\u001b[1;32mC:\\Users\\Dell\\Anaconda3\\lib\\site-packages\\pandas\\io\\sql.py\u001b[0m in \u001b[0;36mcreate\u001b[1;34m(self)\u001b[0m\n\u001b[0;32m    690\u001b[0m         \u001b[1;32mif\u001b[0m \u001b[0mself\u001b[0m\u001b[1;33m.\u001b[0m\u001b[0mexists\u001b[0m\u001b[1;33m(\u001b[0m\u001b[1;33m)\u001b[0m\u001b[1;33m:\u001b[0m\u001b[1;33m\u001b[0m\u001b[0m\n\u001b[0;32m    691\u001b[0m             \u001b[1;32mif\u001b[0m \u001b[0mself\u001b[0m\u001b[1;33m.\u001b[0m\u001b[0mif_exists\u001b[0m \u001b[1;33m==\u001b[0m \u001b[1;34m'fail'\u001b[0m\u001b[1;33m:\u001b[0m\u001b[1;33m\u001b[0m\u001b[0m\n\u001b[1;32m--> 692\u001b[1;33m                 \u001b[1;32mraise\u001b[0m \u001b[0mValueError\u001b[0m\u001b[1;33m(\u001b[0m\u001b[1;34m\"Table '%s' already exists.\"\u001b[0m \u001b[1;33m%\u001b[0m \u001b[0mself\u001b[0m\u001b[1;33m.\u001b[0m\u001b[0mname\u001b[0m\u001b[1;33m)\u001b[0m\u001b[1;33m\u001b[0m\u001b[0m\n\u001b[0m\u001b[0;32m    693\u001b[0m             \u001b[1;32melif\u001b[0m \u001b[0mself\u001b[0m\u001b[1;33m.\u001b[0m\u001b[0mif_exists\u001b[0m \u001b[1;33m==\u001b[0m \u001b[1;34m'replace'\u001b[0m\u001b[1;33m:\u001b[0m\u001b[1;33m\u001b[0m\u001b[0m\n\u001b[0;32m    694\u001b[0m                 \u001b[0mself\u001b[0m\u001b[1;33m.\u001b[0m\u001b[0mpd_sql\u001b[0m\u001b[1;33m.\u001b[0m\u001b[0mdrop_table\u001b[0m\u001b[1;33m(\u001b[0m\u001b[0mself\u001b[0m\u001b[1;33m.\u001b[0m\u001b[0mname\u001b[0m\u001b[1;33m,\u001b[0m \u001b[0mself\u001b[0m\u001b[1;33m.\u001b[0m\u001b[0mschema\u001b[0m\u001b[1;33m)\u001b[0m\u001b[1;33m\u001b[0m\u001b[0m\n",
      "\u001b[1;31mValueError\u001b[0m: Table 'dea' already exists."
     ]
    }
   ],
   "source": [
    "#create table from data frame\n",
    "\n",
    "cursor.execute('use biodb')\n",
    "\n",
    "#fix column name\n",
    "\n",
    "df.columns = [re.sub('[ .-]','',x) for x in df.columns]\n",
    "df.to_sql('dea',conn,flavor = 'mysql')"
   ]
  },
  {
   "cell_type": "code",
   "execution_count": 19,
   "metadata": {
    "collapsed": false
   },
   "outputs": [
    {
     "data": {
      "text/plain": [
       "[{'Tables_in_biodb': 'ache'},\n",
       " {'Tables_in_biodb': 'dea'},\n",
       " {'Tables_in_biodb': 'drugbank'},\n",
       " {'Tables_in_biodb': 'new_table_name2'},\n",
       " {'Tables_in_biodb': 'uniprot'}]"
      ]
     },
     "execution_count": 19,
     "metadata": {},
     "output_type": "execute_result"
    }
   ],
   "source": [
    "# check if table is created\n",
    "\n",
    "cursor.execute(\"show tables\")\n",
    "cursor.fetchall()"
   ]
  },
  {
   "cell_type": "markdown",
   "metadata": {},
   "source": [
    "1. write a query to fetch first 10 lines from dea\n",
    "2. count number of rows in table\n",
    "3.calculate average p_value for entire data\n",
    "4.calculate average p_value  for each gene\n",
    "5.find the gene with highest fold change , lowest fold change "
   ]
  },
  {
   "cell_type": "code",
   "execution_count": 24,
   "metadata": {
    "collapsed": true
   },
   "outputs": [
    {
     "data": {
      "text/plain": [
       "[{'DesignElement': 'A_25_P00010086',\n",
       "  'GeneID': 'MIMAT0000062',\n",
       "  'GeneName': 'MIMAT0000062',\n",
       "  'g1_g2log2foldchange': 0.0784915951074403,\n",
       "  'g1_g2pvalue': 0.70250559386657,\n",
       "  'g1_g2tstatistic': 0.625362183554288,\n",
       "  'index': 0},\n",
       " {'DesignElement': 'A_25_P00011584',\n",
       "  'GeneID': 'MIMAT0000062',\n",
       "  'GeneName': 'MIMAT0000062',\n",
       "  'g1_g2log2foldchange': 0.00741007045087905,\n",
       "  'g1_g2pvalue': 0.975513746316429,\n",
       "  'g1_g2tstatistic': 0.0651101242194695,\n",
       "  'index': 1},\n",
       " {'DesignElement': 'A_25_P00010070',\n",
       "  'GeneID': 'MIMAT0000063',\n",
       "  'GeneName': 'MIMAT0000063',\n",
       "  'g1_g2log2foldchange': 0.556111895299825,\n",
       "  'g1_g2pvalue': 0.139013519150447,\n",
       "  'g1_g2tstatistic': 2.43163612513429,\n",
       "  'index': 2},\n",
       " {'DesignElement': 'A_25_P00010071',\n",
       "  'GeneID': 'MIMAT0000063',\n",
       "  'GeneName': 'MIMAT0000063',\n",
       "  'g1_g2log2foldchange': 0.811621134771325,\n",
       "  'g1_g2pvalue': 0.0497282355402996,\n",
       "  'g1_g2tstatistic': 3.25449181729957,\n",
       "  'index': 3},\n",
       " {'DesignElement': 'A_25_P00010072',\n",
       "  'GeneID': 'MIMAT0000064',\n",
       "  'GeneName': 'MIMAT0000064',\n",
       "  'g1_g2log2foldchange': 0.757065824690136,\n",
       "  'g1_g2pvalue': 0.098282650062664,\n",
       "  'g1_g2tstatistic': 2.69781280670979,\n",
       "  'index': 4},\n",
       " {'DesignElement': 'A_25_P00010073',\n",
       "  'GeneID': 'MIMAT0000064',\n",
       "  'GeneName': 'MIMAT0000064',\n",
       "  'g1_g2log2foldchange': 0.440504336234509,\n",
       "  'g1_g2pvalue': 0.324778784391911,\n",
       "  'g1_g2tstatistic': 1.6485897929498,\n",
       "  'index': 5},\n",
       " {'DesignElement': 'A_25_P00010281',\n",
       "  'GeneID': 'MIMAT0000065',\n",
       "  'GeneName': 'MIMAT0000065',\n",
       "  'g1_g2log2foldchange': 0.382716406596201,\n",
       "  'g1_g2pvalue': 0.103149521552763,\n",
       "  'g1_g2tstatistic': 2.66619309645875,\n",
       "  'index': 6},\n",
       " {'DesignElement': 'A_25_P00010282',\n",
       "  'GeneID': 'MIMAT0000065',\n",
       "  'GeneName': 'MIMAT0000065',\n",
       "  'g1_g2log2foldchange': 0.287800723552511,\n",
       "  'g1_g2pvalue': 0.217890974906888,\n",
       "  'g1_g2tstatistic': 2.04707816939775,\n",
       "  'index': 7},\n",
       " {'DesignElement': 'A_25_P00010279',\n",
       "  'GeneID': 'MIMAT0000066',\n",
       "  'GeneName': 'MIMAT0000066',\n",
       "  'g1_g2log2foldchange': 0.273173539884437,\n",
       "  'g1_g2pvalue': 0.418035430330721,\n",
       "  'g1_g2tstatistic': 1.35920391036664,\n",
       "  'index': 8},\n",
       " {'DesignElement': 'A_25_P00010280',\n",
       "  'GeneID': 'MIMAT0000066',\n",
       "  'GeneName': 'MIMAT0000066',\n",
       "  'g1_g2log2foldchange': 0.328118623046588,\n",
       "  'g1_g2pvalue': 0.424109931973133,\n",
       "  'g1_g2tstatistic': 1.33601337026944,\n",
       "  'index': 9}]"
      ]
     },
     "execution_count": 24,
     "metadata": {},
     "output_type": "execute_result"
    }
   ],
   "source": [
    "#write a query to fetch first 10 lines from dea\n",
    "\n",
    "cursor.execute('select * from dea LIMIT 10 ')\n",
    "cursor.fetchall()"
   ]
  },
  {
   "cell_type": "code",
   "execution_count": 25,
   "metadata": {
    "collapsed": false
   },
   "outputs": [
    {
     "data": {
      "text/plain": [
       "[{'total_row': 1230}]"
      ]
     },
     "execution_count": 25,
     "metadata": {},
     "output_type": "execute_result"
    }
   ],
   "source": [
    "#count number of rows in table\n",
    "cursor.execute('select count(*)  as total_row from dea ')\n",
    "cursor.fetchall()"
   ]
  },
  {
   "cell_type": "code",
   "execution_count": 28,
   "metadata": {
    "collapsed": false
   },
   "outputs": [
    {
     "data": {
      "text/plain": [
       "[{'Default': None,\n",
       "  'Extra': '',\n",
       "  'Field': 'index',\n",
       "  'Key': 'MUL',\n",
       "  'Null': 'YES',\n",
       "  'Type': 'bigint(20)'},\n",
       " {'Default': None,\n",
       "  'Extra': '',\n",
       "  'Field': 'GeneID',\n",
       "  'Key': '',\n",
       "  'Null': 'YES',\n",
       "  'Type': 'varchar(63)'},\n",
       " {'Default': None,\n",
       "  'Extra': '',\n",
       "  'Field': 'GeneName',\n",
       "  'Key': '',\n",
       "  'Null': 'YES',\n",
       "  'Type': 'varchar(63)'},\n",
       " {'Default': None,\n",
       "  'Extra': '',\n",
       "  'Field': 'DesignElement',\n",
       "  'Key': '',\n",
       "  'Null': 'YES',\n",
       "  'Type': 'varchar(63)'},\n",
       " {'Default': None,\n",
       "  'Extra': '',\n",
       "  'Field': 'g1_g2pvalue',\n",
       "  'Key': '',\n",
       "  'Null': 'YES',\n",
       "  'Type': 'double'},\n",
       " {'Default': None,\n",
       "  'Extra': '',\n",
       "  'Field': 'g1_g2tstatistic',\n",
       "  'Key': '',\n",
       "  'Null': 'YES',\n",
       "  'Type': 'double'},\n",
       " {'Default': None,\n",
       "  'Extra': '',\n",
       "  'Field': 'g1_g2log2foldchange',\n",
       "  'Key': '',\n",
       "  'Null': 'YES',\n",
       "  'Type': 'double'}]"
      ]
     },
     "execution_count": 28,
     "metadata": {},
     "output_type": "execute_result"
    }
   ],
   "source": [
    "#calculate average p_value for entire data\n",
    "cursor.execute('describe dea')\n",
    "cursor.fetchall()"
   ]
  },
  {
   "cell_type": "code",
   "execution_count": 34,
   "metadata": {
    "collapsed": false
   },
   "outputs": [
    {
     "data": {
      "text/plain": [
       "[{'Average_pValue_for_table': 0.4529776486719517}]"
      ]
     },
     "execution_count": 34,
     "metadata": {},
     "output_type": "execute_result"
    }
   ],
   "source": [
    "# average p_value for the entire data\n",
    "cursor.execute('Select avg(g1_g2pvalue) Average_pValue_for_table from dea')\n",
    "cursor.fetchall()"
   ]
  },
  {
   "cell_type": "code",
   "execution_count": 39,
   "metadata": {
    "collapsed": false
   },
   "outputs": [
    {
     "data": {
      "text/plain": [
       "[{'Avg_pValue': None, 'GeneName': 'MIMAT0000079'},\n",
       " {'Avg_pValue': 0.000321778898634328, 'GeneName': 'MIMAT0003227'},\n",
       " {'Avg_pValue': 0.00145162156673662, 'GeneName': 'MIMAT0003304'},\n",
       " {'Avg_pValue': 0.0022527138479248, 'GeneName': 'MIMAT0000082'},\n",
       " {'Avg_pValue': 0.00253015446820666, 'GeneName': 'MIMAT0003227'},\n",
       " {'Avg_pValue': 0.00300308814947792, 'GeneName': 'MIMAT0003220'},\n",
       " {'Avg_pValue': 0.00355452319136402, 'GeneName': 'MIMAT0000258'},\n",
       " {'Avg_pValue': 0.00396649049746904, 'GeneName': 'MIMAT0000082'},\n",
       " {'Avg_pValue': 0.00704100264403452, 'GeneName': 'MIMAT0003306'},\n",
       " {'Avg_pValue': 0.00744277646273271, 'GeneName': 'MIMAT0003249'}]"
      ]
     },
     "execution_count": 39,
     "metadata": {},
     "output_type": "execute_result"
    }
   ],
   "source": [
    "# average p_value for each gene\n",
    "cursor.execute('Select GeneName,avg(g1_g2pvalue)as Avg_pValue from dea GROUP BY g1_g2pvalue LIMIT 10' )\n",
    "cursor.fetchall()"
   ]
  },
  {
   "cell_type": "code",
   "execution_count": 50,
   "metadata": {
    "collapsed": false
   },
   "outputs": [
    {
     "data": {
      "text/plain": [
       "[{'GeneID': 'MIMAT0000062',\n",
       "  'GeneName': 'MIMAT0000062',\n",
       "  'max(g1_g2log2foldchange)': 2.68544495738703}]"
      ]
     },
     "execution_count": 50,
     "metadata": {},
     "output_type": "execute_result"
    }
   ],
   "source": [
    "# gene with highest and lowest fold change\n",
    "\n",
    "cursor.execute('Select GeneID,GeneName,max(g1_g2log2foldchange)from dea ')\n",
    "cursor.fetchall()\n",
    "\n",
    "# THIS IS WRONG !!!!!!?"
   ]
  },
  {
   "cell_type": "code",
   "execution_count": 48,
   "metadata": {
    "collapsed": false
   },
   "outputs": [
    {
     "data": {
      "text/plain": [
       "[{'GeneID': 'MIMAT0002177'}]"
      ]
     },
     "execution_count": 48,
     "metadata": {},
     "output_type": "execute_result"
    }
   ],
   "source": [
    "cursor.execute('Select GeneID from dea where g1_g2log2foldchange = (select max(g1_g2log2foldchange) from dea)  ')\n",
    "cursor.fetchall()"
   ]
  },
  {
   "cell_type": "code",
   "execution_count": 49,
   "metadata": {
    "collapsed": false
   },
   "outputs": [
    {
     "data": {
      "text/plain": [
       "[{'GeneID': 'MIMAT0000451'}]"
      ]
     },
     "execution_count": 49,
     "metadata": {},
     "output_type": "execute_result"
    }
   ],
   "source": [
    "cursor.execute('Select GeneID from dea where g1_g2log2foldchange = (select min(g1_g2log2foldchange) from dea)  ')\n",
    "cursor.fetchall()"
   ]
  }
 ],
 "metadata": {
  "kernelspec": {
   "display_name": "Python [Root]",
   "language": "python",
   "name": "Python [Root]"
  },
  "language_info": {
   "codemirror_mode": {
    "name": "ipython",
    "version": 3
   },
   "file_extension": ".py",
   "mimetype": "text/x-python",
   "name": "python",
   "nbconvert_exporter": "python",
   "pygments_lexer": "ipython3",
   "version": "3.5.2"
  }
 },
 "nbformat": 4,
 "nbformat_minor": 0
}
